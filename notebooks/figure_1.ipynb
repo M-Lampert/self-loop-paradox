{
 "cells": [
  {
   "cell_type": "code",
   "execution_count": 8,
   "metadata": {},
   "outputs": [],
   "source": [
    "import time\n",
    "from functools import partial\n",
    "from copy import deepcopy\n",
    "\n",
    "import pandas as pd\n",
    "import seaborn as sns\n",
    "import matplotlib.pyplot as plt\n",
    "from tqdm.auto import trange\n",
    "\n",
    "import torch\n",
    "import torch.nn.functional as F\n",
    "\n",
    "from torch_geometric.utils import add_self_loops\n",
    "from torch_geometric.nn import MLP, GCN\n",
    "\n",
    "from data import get_sbm\n",
    "from utils import get_results_path\n",
    "from visualization import get_box_plot_coords\n"
   ]
  },
  {
   "cell_type": "code",
   "execution_count": 9,
   "metadata": {},
   "outputs": [
    {
     "name": "stdout",
     "output_type": "stream",
     "text": [
      "Running on device: cuda\n"
     ]
    }
   ],
   "source": [
    "device = torch.device(\"cuda\" if torch.cuda.is_available() else \"cpu\")\n",
    "\n",
    "print(\"Running on device: {}\".format(device))\n"
   ]
  },
  {
   "cell_type": "code",
   "execution_count": 10,
   "metadata": {},
   "outputs": [],
   "source": [
    "# Hyperparameters\n",
    "max_epochs = 70\n",
    "hidden_channels = 16\n",
    "runs = 50\n",
    "max_num_layers = 6\n",
    "\n",
    "# Dataset parameters\n",
    "cluster_std = 0.4\n",
    "n_features = 16\n",
    "num_classes = 10\n",
    "centers = torch.eye(num_classes)\n",
    "num_nodes_per_class = 100\n",
    "num_nodes = num_nodes_per_class * num_classes\n",
    "block_sizes = torch.tensor([num_nodes_per_class] * num_classes)\n"
   ]
  },
  {
   "cell_type": "code",
   "execution_count": 11,
   "metadata": {},
   "outputs": [],
   "source": [
    "GNNs = [(\"MLP\", MLP), (\"GCN\", partial(GCN, add_self_loops=False))]\n"
   ]
  },
  {
   "cell_type": "code",
   "execution_count": 12,
   "metadata": {},
   "outputs": [],
   "source": [
    "df = pd.DataFrame()\n"
   ]
  },
  {
   "cell_type": "code",
   "execution_count": 13,
   "metadata": {},
   "outputs": [
    {
     "data": {
      "application/vnd.jupyter.widget-view+json": {
       "model_id": "2006624332344a8ea73264cf88d6eb5a",
       "version_major": 2,
       "version_minor": 0
      },
      "text/plain": [
       "  0%|          | 0/3 [00:00<?, ?it/s]"
      ]
     },
     "metadata": {},
     "output_type": "display_data"
    }
   ],
   "source": [
    "pbar = trange(runs)\n",
    "for i in pbar:\n",
    "    for edge_num_self, edge_num_other in [\n",
    "        (6, 3),\n",
    "        (6, 6),\n",
    "        (3, 6),\n",
    "        (1, 9),\n",
    "    ]:\n",
    "        name = f\"p_ii={edge_num_self}/100, p_ij={edge_num_other}/100\"\n",
    "        pbar.set_postfix_str(name)\n",
    "\n",
    "        # Generate a probability matrix for the SBM\n",
    "        prob_matrix = torch.full(\n",
    "            (num_classes, num_classes), edge_num_other / (num_nodes - 100)\n",
    "        )\n",
    "        edge_prob_self = edge_num_self / block_sizes\n",
    "        edge_probs = (prob_matrix * (1 - torch.eye(num_classes))) + torch.diag(\n",
    "            edge_prob_self\n",
    "        )\n",
    "        # Generate a Stochastic Block Model\n",
    "        orig_data = get_sbm(\n",
    "            block_sizes=block_sizes,\n",
    "            edge_probs=edge_probs,\n",
    "            centers=centers,\n",
    "            cluster_std=cluster_std,\n",
    "            n_features=n_features,\n",
    "            seed=i,\n",
    "        )\n",
    "\n",
    "        for num_layers in range(1, max_num_layers + 1):\n",
    "            for GNN_name, GNN_model in GNNs:\n",
    "                for self_loops in [False, True]:\n",
    "                    start_time = time.time()\n",
    "                    data = deepcopy(orig_data).to(device)\n",
    "\n",
    "                    model = GNN_model(\n",
    "                        in_channels=data.x.shape[1],\n",
    "                        hidden_channels=hidden_channels,\n",
    "                        out_channels=data.y.max().item() + 1,\n",
    "                        num_layers=num_layers,\n",
    "                    ).to(device)\n",
    "\n",
    "                    if self_loops:\n",
    "                        data.edge_index = add_self_loops(\n",
    "                            data.edge_index, num_nodes=data.num_nodes\n",
    "                        )[0]\n",
    "\n",
    "                    optimizer = torch.optim.Adam(model.parameters(), lr=0.01)\n",
    "\n",
    "                    model.train()\n",
    "                    for epoch in range(max_epochs):\n",
    "                        optimizer.zero_grad()\n",
    "                        if GNN_name == \"MLP\":\n",
    "                            out = model(data.x)\n",
    "                        else:\n",
    "                            out = model(data.x, data.edge_index)\n",
    "\n",
    "                        loss = F.cross_entropy(\n",
    "                            out[data.train_mask], data.y[data.train_mask]\n",
    "                        )\n",
    "\n",
    "                        loss.backward()\n",
    "                        optimizer.step()\n",
    "\n",
    "                    model.eval()\n",
    "                    if GNN_name == \"MLP\":\n",
    "                        out = model(data.x)\n",
    "                    else:\n",
    "                        out = model(data.x, data.edge_index)\n",
    "\n",
    "                    train_acc = (\n",
    "                        out[data.train_mask]\n",
    "                        .argmax(-1)\n",
    "                        .eq(data.y[data.train_mask])\n",
    "                        .sum()\n",
    "                        .item()\n",
    "                        / data.train_mask.sum().item()\n",
    "                    )\n",
    "                    test_acc = (\n",
    "                        out[data.test_mask]\n",
    "                        .argmax(-1)\n",
    "                        .eq(data.y[data.test_mask])\n",
    "                        .sum()\n",
    "                        .item()\n",
    "                        / data.test_mask.sum().item()\n",
    "                    )\n",
    "\n",
    "                    df = pd.concat(\n",
    "                        [\n",
    "                            df,\n",
    "                            pd.DataFrame(\n",
    "                                {\n",
    "                                    \"model\": GNN_name,\n",
    "                                    \"dataset\": name,\n",
    "                                    \"num_layers\": num_layers,\n",
    "                                    \"self_loops\": self_loops,\n",
    "                                    \"run\": i,\n",
    "                                    \"train_loss\": loss.item(),\n",
    "                                    \"train_acc\": train_acc,\n",
    "                                    \"test_acc\": test_acc,\n",
    "                                    \"time\": time.time() - start_time,\n",
    "                                },\n",
    "                                index=[0],\n",
    "                            ),\n",
    "                        ],\n",
    "                        ignore_index=True,\n",
    "                    )\n",
    "\n",
    "    df.to_csv(get_results_path() / \"synthetic.csv\")\n"
   ]
  },
  {
   "cell_type": "code",
   "execution_count": 14,
   "metadata": {},
   "outputs": [
    {
     "name": "stderr",
     "output_type": "stream",
     "text": [
      "/opt/conda/lib/python3.10/site-packages/seaborn/_oldcore.py:1498: FutureWarning: is_categorical_dtype is deprecated and will be removed in a future version. Use isinstance(dtype, CategoricalDtype) instead\n",
      "  if pd.api.types.is_categorical_dtype(vector):\n",
      "/opt/conda/lib/python3.10/site-packages/seaborn/_oldcore.py:1498: FutureWarning: is_categorical_dtype is deprecated and will be removed in a future version. Use isinstance(dtype, CategoricalDtype) instead\n",
      "  if pd.api.types.is_categorical_dtype(vector):\n",
      "/opt/conda/lib/python3.10/site-packages/seaborn/_oldcore.py:1498: FutureWarning: is_categorical_dtype is deprecated and will be removed in a future version. Use isinstance(dtype, CategoricalDtype) instead\n",
      "  if pd.api.types.is_categorical_dtype(vector):\n",
      "/opt/conda/lib/python3.10/site-packages/seaborn/_oldcore.py:1498: FutureWarning: is_categorical_dtype is deprecated and will be removed in a future version. Use isinstance(dtype, CategoricalDtype) instead\n",
      "  if pd.api.types.is_categorical_dtype(vector):\n",
      "/opt/conda/lib/python3.10/site-packages/seaborn/_oldcore.py:1498: FutureWarning: is_categorical_dtype is deprecated and will be removed in a future version. Use isinstance(dtype, CategoricalDtype) instead\n",
      "  if pd.api.types.is_categorical_dtype(vector):\n",
      "/opt/conda/lib/python3.10/site-packages/seaborn/_oldcore.py:1498: FutureWarning: is_categorical_dtype is deprecated and will be removed in a future version. Use isinstance(dtype, CategoricalDtype) instead\n",
      "  if pd.api.types.is_categorical_dtype(vector):\n",
      "/opt/conda/lib/python3.10/site-packages/seaborn/_oldcore.py:1498: FutureWarning: is_categorical_dtype is deprecated and will be removed in a future version. Use isinstance(dtype, CategoricalDtype) instead\n",
      "  if pd.api.types.is_categorical_dtype(vector):\n",
      "/opt/conda/lib/python3.10/site-packages/seaborn/_oldcore.py:1498: FutureWarning: is_categorical_dtype is deprecated and will be removed in a future version. Use isinstance(dtype, CategoricalDtype) instead\n",
      "  if pd.api.types.is_categorical_dtype(vector):\n",
      "/opt/conda/lib/python3.10/site-packages/seaborn/_oldcore.py:1498: FutureWarning: is_categorical_dtype is deprecated and will be removed in a future version. Use isinstance(dtype, CategoricalDtype) instead\n",
      "  if pd.api.types.is_categorical_dtype(vector):\n",
      "/opt/conda/lib/python3.10/site-packages/seaborn/_oldcore.py:1498: FutureWarning: is_categorical_dtype is deprecated and will be removed in a future version. Use isinstance(dtype, CategoricalDtype) instead\n",
      "  if pd.api.types.is_categorical_dtype(vector):\n",
      "/opt/conda/lib/python3.10/site-packages/seaborn/_oldcore.py:1498: FutureWarning: is_categorical_dtype is deprecated and will be removed in a future version. Use isinstance(dtype, CategoricalDtype) instead\n",
      "  if pd.api.types.is_categorical_dtype(vector):\n",
      "/opt/conda/lib/python3.10/site-packages/seaborn/_oldcore.py:1498: FutureWarning: is_categorical_dtype is deprecated and will be removed in a future version. Use isinstance(dtype, CategoricalDtype) instead\n",
      "  if pd.api.types.is_categorical_dtype(vector):\n"
     ]
    },
    {
     "data": {
      "image/png": "[encoded data removed]",
      "text/plain": [
       "<Figure size 640x480 with 4 Axes>"
      ]
     },
     "metadata": {},
     "output_type": "display_data"
    }
   ],
   "source": [
    "axs = plt.subplots(df[\"dataset\"].nunique() // 2, 2, sharex=True, sharey=False)[\n",
    "    1\n",
    "].flatten()\n",
    "\n",
    "for i, (ax, dataset) in enumerate(zip(axs, df[\"dataset\"].unique())):\n",
    "    # Show the average GCN accuracy per layer using boxplots grouped by self-loops\n",
    "    GCN_df = df[(df[\"dataset\"] == dataset) & (df[\"model\"] == \"GCN\")]\n",
    "    sns.boxplot(\n",
    "        x=\"num_layers\",\n",
    "        y=\"test_acc\",\n",
    "        data=GCN_df,\n",
    "        ax=ax,\n",
    "        hue=\"self_loops\",\n",
    "        hue_order=[True, False],\n",
    "    )\n",
    "\n",
    "    # Add the MLP accuracy per layer as a baseline\n",
    "    MLP_df = df[(df[\"dataset\"] == dataset) & (df[\"model\"] == \"MLP\")]\n",
    "    x_ls, x_rs = get_box_plot_coords(n_classes=max_num_layers, n_hue=2)\n",
    "    for y, x_l, x_r in zip(\n",
    "        MLP_df.groupby([\"num_layers\", \"self_loops\"], sort=False)[\"test_acc\"]\n",
    "        .mean()\n",
    "        .values,\n",
    "        x_ls,\n",
    "        x_rs,\n",
    "    ):\n",
    "        mlp = ax.axhline(y=y, xmin=x_l, xmax=x_r, ls=\"-\", color=\"grey\")\n",
    "\n",
    "    # Set the title, legend and axis labels\n",
    "    ax.set_title(dataset)\n",
    "    if i == 3:\n",
    "        legend = ax.legend()\n",
    "        handles, labels = legend.legend_handles, [\n",
    "            text.get_text() for text in legend.get_texts()\n",
    "        ]\n",
    "        labels = [label.lower() for label in labels]\n",
    "        ax.legend(\n",
    "            handles + [mlp],\n",
    "            labels + [\"MLP\"],\n",
    "            loc=\"upper right\",\n",
    "            title=\"self-loops\",\n",
    "        )\n",
    "    else:\n",
    "        ax.legend().remove()\n",
    "    if i % 2 == 0:\n",
    "        ax.set_ylabel(r\"test accuracy\")\n",
    "    else:\n",
    "        ax.set_ylabel(\"\")\n",
    "    if i >= 2:\n",
    "        ax.set_xlabel(r\"number of layers\")\n",
    "    else:\n",
    "        ax.set_xlabel(\"\")\n",
    "\n",
    "plt.savefig(get_results_path() / \"synthetic.pdf\", bbox_inches=\"tight\")\n"
   ]
  }
 ],
 "metadata": {
  "kernelspec": {
   "display_name": "self_loop_paradox",
   "language": "python",
   "name": "python3"
  },
  "language_info": {
   "codemirror_mode": {
    "name": "ipython",
    "version": 3
   },
   "file_extension": ".py",
   "mimetype": "text/x-python",
   "name": "python",
   "nbconvert_exporter": "python",
   "pygments_lexer": "ipython3",
   "version": "3.10.11"
  },
  "orig_nbformat": 4
 },
 "nbformat": 4,
 "nbformat_minor": 2
}
