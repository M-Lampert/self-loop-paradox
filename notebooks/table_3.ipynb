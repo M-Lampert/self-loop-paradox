{
 "cells": [
  {
   "cell_type": "code",
   "execution_count": null,
   "metadata": {},
   "outputs": [],
   "source": [
    "import pandas as pd\n",
    "\n",
    "from torch_geometric.utils import to_scipy_sparse_matrix\n",
    "\n",
    "from data import iterate_datasets\n",
    "from stats import compute_statistics\n",
    "from utils import get_results_path\n"
   ]
  },
  {
   "cell_type": "code",
   "execution_count": null,
   "metadata": {},
   "outputs": [],
   "source": [
    "stats_path = get_results_path() / \"statistics_real.csv\"\n",
    "df = pd.DataFrame()\n"
   ]
  },
  {
   "cell_type": "code",
   "execution_count": null,
   "metadata": {},
   "outputs": [],
   "source": [
    "# Get values for real datasets\n",
    "for name, dataset in iterate_datasets():\n",
    "    print(f\"Processing {name}...\")\n",
    "    data = dataset[0]\n",
    "\n",
    "    A = to_scipy_sparse_matrix(data.edge_index)\n",
    "\n",
    "    df = compute_statistics(A, name, df, max_k=4)\n",
    "    df.to_csv(stats_path)\n"
   ]
  },
  {
   "cell_type": "code",
   "execution_count": null,
   "metadata": {},
   "outputs": [],
   "source": [
    "df[\n",
    "    [\n",
    "        \"1_mean\",\n",
    "        \"1_std\",\n",
    "        \"1_expected\",\n",
    "        \"2_mean\",\n",
    "        \"2_std\",\n",
    "        \"2_expected\",\n",
    "        \"3_mean\",\n",
    "        \"3_std\",\n",
    "        \"4_mean\",\n",
    "        \"4_std\",\n",
    "    ]\n",
    "]\n"
   ]
  }
 ],
 "metadata": {
  "kernelspec": {
   "display_name": "ma-cpu",
   "language": "python",
   "name": "python3"
  },
  "language_info": {
   "codemirror_mode": {
    "name": "ipython",
    "version": 3
   },
   "file_extension": ".py",
   "mimetype": "text/x-python",
   "name": "python",
   "nbconvert_exporter": "python",
   "pygments_lexer": "ipython3",
   "version": "3.10.11"
  },
  "orig_nbformat": 4
 },
 "nbformat": 4,
 "nbformat_minor": 2
}
